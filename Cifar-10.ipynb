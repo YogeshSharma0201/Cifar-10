{
  "nbformat": 4,
  "nbformat_minor": 0,
  "metadata": {
    "colab": {
      "name": "Untitled2.ipynb",
      "version": "0.3.2",
      "provenance": []
    },
    "kernelspec": {
      "name": "python3",
      "display_name": "Python 3"
    },
    "accelerator": "TPU"
  },
  "cells": [
    {
      "metadata": {
        "id": "_TB3hCwTV59w",
        "colab_type": "code",
        "colab": {}
      },
      "cell_type": "code",
      "source": [
        "%matplotlib inline\n",
        "import numpy as np\n",
        "import matplotlib\n",
        "from matplotlib import pyplot as plt\n",
        "from keras.models import Sequential\n",
        "from keras.optimizers import Adam\n",
        "from keras.callbacks import ModelCheckpoint\n",
        "from keras.models import load_model\n",
        "from keras.layers import Lambda, Conv2D, MaxPooling2D, Dropout, Dense, Flatten, Activation\n",
        "import cifar10\n"
      ],
      "execution_count": 0,
      "outputs": []
    },
    {
      "metadata": {
        "id": "GJfmwjBlWNef",
        "colab_type": "code",
        "outputId": "93bd3c4b-1027-4314-e397-9b13628bbc56",
        "colab": {
          "base_uri": "https://localhost:8080/",
          "height": 235
        }
      },
      "cell_type": "code",
      "source": [
        "cifar10.data_path = \"data/CIFAR-10/\"\n",
        "cifar10.maybe_download_and_extract()\n",
        "class_names = cifar10.load_class_names()\n",
        "class_names"
      ],
      "execution_count": 0,
      "outputs": [
        {
          "output_type": "stream",
          "text": [
            "Data has apparently already been downloaded and unpacked.\n",
            "Loading data: data/CIFAR-10/cifar-10-batches-py/batches.meta\n"
          ],
          "name": "stdout"
        },
        {
          "output_type": "execute_result",
          "data": {
            "text/plain": [
              "['airplane',\n",
              " 'automobile',\n",
              " 'bird',\n",
              " 'cat',\n",
              " 'deer',\n",
              " 'dog',\n",
              " 'frog',\n",
              " 'horse',\n",
              " 'ship',\n",
              " 'truck']"
            ]
          },
          "metadata": {
            "tags": []
          },
          "execution_count": 10
        }
      ]
    },
    {
      "metadata": {
        "id": "3EmnN5pHXGnD",
        "colab_type": "code",
        "outputId": "f049d95d-e443-4c68-f914-534355bfc15b",
        "colab": {
          "base_uri": "https://localhost:8080/",
          "height": 126
        }
      },
      "cell_type": "code",
      "source": [
        "images_train, cls_train, labels_train = cifar10.load_training_data()\n",
        "images_test, cls_test, labels_test = cifar10.load_test_data()"
      ],
      "execution_count": 0,
      "outputs": [
        {
          "output_type": "stream",
          "text": [
            "Loading data: data/CIFAR-10/cifar-10-batches-py/data_batch_1\n",
            "Loading data: data/CIFAR-10/cifar-10-batches-py/data_batch_2\n",
            "Loading data: data/CIFAR-10/cifar-10-batches-py/data_batch_3\n",
            "Loading data: data/CIFAR-10/cifar-10-batches-py/data_batch_4\n",
            "Loading data: data/CIFAR-10/cifar-10-batches-py/data_batch_5\n",
            "Loading data: data/CIFAR-10/cifar-10-batches-py/test_batch\n"
          ],
          "name": "stdout"
        }
      ]
    },
    {
      "metadata": {
        "id": "bndfcbSfYKvi",
        "colab_type": "code",
        "outputId": "c38a5bfc-7105-47d8-da70-896ad039bf7a",
        "colab": {
          "base_uri": "https://localhost:8080/",
          "height": 581
        }
      },
      "cell_type": "code",
      "source": [
        "# Hight and width of the images\n",
        "IMAGE_SIZE = 32\n",
        "# 3 channels, Red, Green and Blue\n",
        "CHANNELS = 3\n",
        "\n",
        "def cnn_model():\n",
        "    \n",
        "    model = Sequential()\n",
        "    \n",
        "    model.add(Conv2D(32, (3, 3), activation='relu', padding='same', input_shape=(IMAGE_SIZE,IMAGE_SIZE,CHANNELS)))    \n",
        "    model.add(Conv2D(32, (3, 3), activation='relu'))    \n",
        "    model.add(MaxPooling2D(pool_size=(2, 2)))\n",
        "    model.add(Dropout(0.25))\n",
        "\n",
        "    \n",
        "    model.add(Conv2D(64, (3, 3), activation='relu', padding='same'))    \n",
        "    model.add(Conv2D(64, (3, 3), activation='relu'))\n",
        "    model.add(MaxPooling2D(pool_size=(2, 2)))\n",
        "    model.add(Dropout(0.25))\n",
        "\n",
        "    model.add(Flatten())\n",
        "    \n",
        "    model.add(Dense(512, activation='relu'))\n",
        "    model.add(Dropout(0.5))\n",
        "    \n",
        "    model.add(Dense(num_classes, activation='softmax'))\n",
        "    \n",
        "    model.summary()\n",
        "    \n",
        "    return model\n",
        "  \n",
        "  \n",
        "model = cnn_model()\n"
      ],
      "execution_count": 0,
      "outputs": [
        {
          "output_type": "stream",
          "text": [
            "_________________________________________________________________\n",
            "Layer (type)                 Output Shape              Param #   \n",
            "=================================================================\n",
            "conv2d_5 (Conv2D)            (None, 32, 32, 32)        896       \n",
            "_________________________________________________________________\n",
            "conv2d_6 (Conv2D)            (None, 30, 30, 32)        9248      \n",
            "_________________________________________________________________\n",
            "max_pooling2d_3 (MaxPooling2 (None, 15, 15, 32)        0         \n",
            "_________________________________________________________________\n",
            "dropout_4 (Dropout)          (None, 15, 15, 32)        0         \n",
            "_________________________________________________________________\n",
            "conv2d_7 (Conv2D)            (None, 15, 15, 64)        18496     \n",
            "_________________________________________________________________\n",
            "conv2d_8 (Conv2D)            (None, 13, 13, 64)        36928     \n",
            "_________________________________________________________________\n",
            "max_pooling2d_4 (MaxPooling2 (None, 6, 6, 64)          0         \n",
            "_________________________________________________________________\n",
            "dropout_5 (Dropout)          (None, 6, 6, 64)          0         \n",
            "_________________________________________________________________\n",
            "flatten_2 (Flatten)          (None, 2304)              0         \n",
            "_________________________________________________________________\n",
            "dense_3 (Dense)              (None, 512)               1180160   \n",
            "_________________________________________________________________\n",
            "dropout_6 (Dropout)          (None, 512)               0         \n",
            "_________________________________________________________________\n",
            "dense_4 (Dense)              (None, 10)                5130      \n",
            "=================================================================\n",
            "Total params: 1,250,858\n",
            "Trainable params: 1,250,858\n",
            "Non-trainable params: 0\n",
            "_________________________________________________________________\n"
          ],
          "name": "stdout"
        }
      ]
    },
    {
      "metadata": {
        "id": "8Pttwe1pY2zP",
        "colab_type": "code",
        "colab": {}
      },
      "cell_type": "code",
      "source": [
        "checkpoint = ModelCheckpoint('best_model_simple.h5',  # model filename\n",
        "                             monitor='val_loss', # quantity to monitor\n",
        "                             verbose=0, # verbosity - 0 or 1\n",
        "                             save_best_only= True, # The latest best model will not be overwritten\n",
        "                             mode='auto') # The decision to overwrite model is made \n",
        "                                          # automatically depending on the quantity to monitor"
      ],
      "execution_count": 0,
      "outputs": []
    },
    {
      "metadata": {
        "id": "AXo6a_C2ZQSL",
        "colab_type": "code",
        "colab": {}
      },
      "cell_type": "code",
      "source": [
        "model.compile(loss='categorical_crossentropy', # Better loss function for neural networks\n",
        "              optimizer=Adam(lr=1.0e-4), # Adam optimizer with 1.0e-4 learning rate\n",
        "              metrics = ['accuracy']) # Metrics to be evaluated by the model"
      ],
      "execution_count": 0,
      "outputs": []
    },
    {
      "metadata": {
        "id": "hoxV9FJSY627",
        "colab_type": "code",
        "outputId": "18c6f406-c9cb-4935-c12e-c405ea0cca5f",
        "colab": {
          "base_uri": "https://localhost:8080/",
          "height": 945
        }
      },
      "cell_type": "code",
      "source": [
        "model_details = model.fit(images_train, labels_train,\n",
        "                    batch_size = 128, # number of samples per gradient update\n",
        "                    epochs = 25, # number of iterations\n",
        "                    validation_data= (images_test, labels_test),\n",
        "                    callbacks=[checkpoint],\n",
        "                    verbose=1)"
      ],
      "execution_count": 0,
      "outputs": [
        {
          "output_type": "stream",
          "text": [
            "Train on 50000 samples, validate on 10000 samples\n",
            "Epoch 1/25\n",
            "50000/50000 [==============================] - 260s 5ms/step - loss: 1.5744 - acc: 0.4237 - val_loss: 1.4351 - val_acc: 0.4794\n",
            "Epoch 2/25\n",
            "50000/50000 [==============================] - 260s 5ms/step - loss: 1.4533 - acc: 0.4740 - val_loss: 1.3575 - val_acc: 0.5145\n",
            "Epoch 3/25\n",
            "50000/50000 [==============================] - 262s 5ms/step - loss: 1.3765 - acc: 0.5046 - val_loss: 1.2791 - val_acc: 0.5438\n",
            "Epoch 4/25\n",
            "50000/50000 [==============================] - 264s 5ms/step - loss: 1.3161 - acc: 0.5315 - val_loss: 1.2158 - val_acc: 0.5685\n",
            "Epoch 5/25\n",
            "50000/50000 [==============================] - 265s 5ms/step - loss: 1.2632 - acc: 0.5539 - val_loss: 1.1701 - val_acc: 0.5885\n",
            "Epoch 6/25\n",
            "50000/50000 [==============================] - 265s 5ms/step - loss: 1.2132 - acc: 0.5692 - val_loss: 1.1229 - val_acc: 0.6004\n",
            "Epoch 7/25\n",
            "50000/50000 [==============================] - 264s 5ms/step - loss: 1.1702 - acc: 0.5894 - val_loss: 1.0959 - val_acc: 0.6169\n",
            "Epoch 8/25\n",
            "50000/50000 [==============================] - 269s 5ms/step - loss: 1.1342 - acc: 0.5993 - val_loss: 1.0558 - val_acc: 0.6324\n",
            "Epoch 9/25\n",
            "50000/50000 [==============================] - 260s 5ms/step - loss: 1.0943 - acc: 0.6154 - val_loss: 1.0199 - val_acc: 0.6467\n",
            "Epoch 10/25\n",
            "50000/50000 [==============================] - 266s 5ms/step - loss: 1.0596 - acc: 0.6285 - val_loss: 1.0058 - val_acc: 0.6490\n",
            "Epoch 11/25\n",
            "50000/50000 [==============================] - 264s 5ms/step - loss: 1.0312 - acc: 0.6367 - val_loss: 0.9633 - val_acc: 0.6674\n",
            "Epoch 12/25\n",
            "50000/50000 [==============================] - 261s 5ms/step - loss: 1.0071 - acc: 0.6475 - val_loss: 0.9347 - val_acc: 0.6764\n",
            "Epoch 13/25\n",
            "50000/50000 [==============================] - 262s 5ms/step - loss: 0.9821 - acc: 0.6553 - val_loss: 0.9101 - val_acc: 0.6850\n",
            "Epoch 14/25\n",
            "50000/50000 [==============================] - 262s 5ms/step - loss: 0.9496 - acc: 0.6669 - val_loss: 0.8891 - val_acc: 0.6923\n",
            "Epoch 15/25\n",
            "50000/50000 [==============================] - 259s 5ms/step - loss: 0.9330 - acc: 0.6731 - val_loss: 0.8911 - val_acc: 0.6901\n",
            "Epoch 16/25\n",
            "50000/50000 [==============================] - 256s 5ms/step - loss: 0.9124 - acc: 0.6805 - val_loss: 0.8589 - val_acc: 0.7050\n",
            "Epoch 17/25\n",
            "50000/50000 [==============================] - 261s 5ms/step - loss: 0.8958 - acc: 0.6860 - val_loss: 0.8513 - val_acc: 0.7064\n",
            "Epoch 18/25\n",
            "50000/50000 [==============================] - 262s 5ms/step - loss: 0.8702 - acc: 0.6948 - val_loss: 0.8566 - val_acc: 0.7039\n",
            "Epoch 19/25\n",
            "50000/50000 [==============================] - 261s 5ms/step - loss: 0.8562 - acc: 0.7028 - val_loss: 0.8388 - val_acc: 0.7104\n",
            "Epoch 20/25\n",
            "50000/50000 [==============================] - 261s 5ms/step - loss: 0.8388 - acc: 0.7070 - val_loss: 0.8160 - val_acc: 0.7200\n",
            "Epoch 21/25\n",
            "50000/50000 [==============================] - 262s 5ms/step - loss: 0.8233 - acc: 0.7131 - val_loss: 0.8000 - val_acc: 0.7279\n",
            "Epoch 22/25\n",
            "50000/50000 [==============================] - 259s 5ms/step - loss: 0.8101 - acc: 0.7165 - val_loss: 0.7820 - val_acc: 0.7338\n",
            "Epoch 23/25\n",
            "50000/50000 [==============================] - 259s 5ms/step - loss: 0.7931 - acc: 0.7240 - val_loss: 0.7736 - val_acc: 0.7352\n",
            "Epoch 24/25\n",
            "50000/50000 [==============================] - 261s 5ms/step - loss: 0.7801 - acc: 0.7254 - val_loss: 0.7689 - val_acc: 0.7362\n",
            "Epoch 25/25\n",
            "50000/50000 [==============================] - 261s 5ms/step - loss: 0.7632 - acc: 0.7345 - val_loss: 0.7673 - val_acc: 0.7373\n"
          ],
          "name": "stdout"
        }
      ]
    },
    {
      "metadata": {
        "id": "P-OeiwOl0S0u",
        "colab_type": "code",
        "outputId": "480311d5-66d7-4ba2-c5ca-885b87b3c2e7",
        "colab": {
          "base_uri": "https://localhost:8080/",
          "height": 35
        }
      },
      "cell_type": "code",
      "source": [
        "scores = model.evaluate(images_test, labels_test, verbose=0)\n",
        "print(\"Accuracy: %.2f%%\" % (scores[1]*100))"
      ],
      "execution_count": 0,
      "outputs": [
        {
          "output_type": "stream",
          "text": [
            "Accuracy: 73.73%\n"
          ],
          "name": "stdout"
        }
      ]
    }
  ]
}